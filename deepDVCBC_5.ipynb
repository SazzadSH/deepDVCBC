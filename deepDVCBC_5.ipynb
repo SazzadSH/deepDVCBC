{
  "nbformat": 4,
  "nbformat_minor": 0,
  "metadata": {
    "colab": {
      "name": "deepDVCBC 5.ipynb",
      "provenance": [],
      "collapsed_sections": [],
      "toc_visible": true
    },
    "kernelspec": {
      "name": "python3",
      "display_name": "Python 3"
    },
    "accelerator": "GPU"
  },
  "cells": [
    {
      "cell_type": "markdown",
      "metadata": {
        "id": "0wyPv2P3Rnc3",
        "colab_type": "text"
      },
      "source": [
        "# Image Classification using Convolutional Neural Network\n",
        "\n",
        "Here, we will construct a convolutional neural network (CNN) and train it so that it will be able to classify dogs and cats images."
      ]
    },
    {
      "cell_type": "markdown",
      "metadata": {
        "id": "gqdW5t7lSp0c",
        "colab_type": "text"
      },
      "source": [
        "1. Getting the dataset"
      ]
    },
    {
      "cell_type": "code",
      "metadata": {
        "id": "ZTBp7tapUZec",
        "colab_type": "code",
        "outputId": "a9ff6033-028e-4031-e18b-13aeb14869dd",
        "colab": {
          "base_uri": "https://localhost:8080/",
          "height": 217
        }
      },
      "source": [
        "!wget --no-check-certificate \\\n",
        "    https://storage.googleapis.com/mledu-datasets/cats_and_dogs_filtered.zip \\\n",
        "    -O /tmp/cats_and_dogs_filtered.zip"
      ],
      "execution_count": 0,
      "outputs": [
        {
          "output_type": "stream",
          "text": [
            "--2019-10-01 07:35:43--  https://storage.googleapis.com/mledu-datasets/cats_and_dogs_filtered.zip\n",
            "Resolving storage.googleapis.com (storage.googleapis.com)... 74.125.200.128, 2404:6800:4003:c02::80\n",
            "Connecting to storage.googleapis.com (storage.googleapis.com)|74.125.200.128|:443... connected.\n",
            "HTTP request sent, awaiting response... 200 OK\n",
            "Length: 68606236 (65M) [application/zip]\n",
            "Saving to: ‘/tmp/cats_and_dogs_filtered.zip’\n",
            "\n",
            "\r          /tmp/cats   0%[                    ]       0  --.-KB/s               \r         /tmp/cats_   6%[>                   ]   4.01M  15.9MB/s               \r        /tmp/cats_a  48%[========>           ]  32.01M  65.2MB/s               \r/tmp/cats_and_dogs_ 100%[===================>]  65.43M   103MB/s    in 0.6s    \n",
            "\n",
            "2019-10-01 07:35:44 (103 MB/s) - ‘/tmp/cats_and_dogs_filtered.zip’ saved [68606236/68606236]\n",
            "\n"
          ],
          "name": "stdout"
        }
      ]
    },
    {
      "cell_type": "code",
      "metadata": {
        "id": "X0PEmWWKU7tU",
        "colab_type": "code",
        "colab": {}
      },
      "source": [
        "import os\n",
        "import zipfile\n",
        "\n",
        "data = '/tmp/cats_and_dogs_filtered.zip'\n",
        "dataFile = zipfile.ZipFile(data, 'r')\n",
        "dataFile.extractall('/tmp')\n",
        "dataFile.close()"
      ],
      "execution_count": 0,
      "outputs": []
    },
    {
      "cell_type": "markdown",
      "metadata": {
        "id": "ky1FQ7jhVMO9",
        "colab_type": "text"
      },
      "source": [
        "2. Importing libraries and packages"
      ]
    },
    {
      "cell_type": "code",
      "metadata": {
        "id": "wJld41VyaALZ",
        "colab_type": "code",
        "colab": {}
      },
      "source": [
        "from keras.models import Sequential\n",
        "from keras.layers import Convolution2D\n",
        "from keras.layers import MaxPooling2D\n",
        "from keras.layers import Flatten\n",
        "from keras.layers import Dense\n",
        "from keras.preprocessing.image import ImageDataGenerator\n",
        "from keras.optimizers import RMSprop\n",
        "from keras.layers import Dropout"
      ],
      "execution_count": 0,
      "outputs": []
    },
    {
      "cell_type": "markdown",
      "metadata": {
        "id": "DeuFG-ZjZQmi",
        "colab_type": "text"
      },
      "source": [
        "3. Constructing the CNN"
      ]
    },
    {
      "cell_type": "code",
      "metadata": {
        "id": "ePtm7OwbemSc",
        "colab_type": "code",
        "outputId": "d019fb03-2638-4c2d-a45f-3b96c4a738ba",
        "colab": {
          "base_uri": "https://localhost:8080/",
          "height": 291
        }
      },
      "source": [
        "#Initializing the CNN\n",
        "classifier = Sequential()\n",
        "\n",
        "#Convolution - 1st\n",
        "classifier.add(Convolution2D(32, 3, 3, border_mode = 'same', input_shape = (200, 200, 3), activation = 'relu'))\n",
        "classifier.add(Convolution2D(32, 3, 3, border_mode = 'same', activation = 'relu'))\n",
        "classifier.add(MaxPooling2D(pool_size = (2,2)))\n",
        "\n",
        "#Convolution - 2nd\n",
        "classifier.add(Convolution2D(64, 3, 3, border_mode = 'same', activation = 'relu'))\n",
        "classifier.add(Convolution2D(64, 3, 3, border_mode = 'same', activation = 'relu'))\n",
        "classifier.add(MaxPooling2D(pool_size = (2,2)))\n",
        "\n",
        "#Convolution - 3rd\n",
        "classifier.add(Convolution2D(128, 3, 3, border_mode = 'same', activation = 'relu'))\n",
        "classifier.add(Convolution2D(128, 3, 3, border_mode = 'same', activation = 'relu'))\n",
        "classifier.add(MaxPooling2D(pool_size = (2,2)))\n",
        "\n",
        "#Convolution - 3rd\n",
        "classifier.add(Convolution2D(256, 3, 3, border_mode = 'same', activation = 'relu'))\n",
        "classifier.add(Convolution2D(256, 3, 3, border_mode = 'same', activation = 'relu'))\n",
        "classifier.add(MaxPooling2D(pool_size = (2,2)))"
      ],
      "execution_count": 0,
      "outputs": [
        {
          "output_type": "stream",
          "text": [
            "/usr/local/lib/python3.6/dist-packages/ipykernel_launcher.py:4: UserWarning: Update your `Conv2D` call to the Keras 2 API: `Conv2D(32, (3, 3), input_shape=(200, 200,..., activation=\"relu\", padding=\"same\")`\n",
            "  after removing the cwd from sys.path.\n",
            "/usr/local/lib/python3.6/dist-packages/ipykernel_launcher.py:5: UserWarning: Update your `Conv2D` call to the Keras 2 API: `Conv2D(32, (3, 3), activation=\"relu\", padding=\"same\")`\n",
            "  \"\"\"\n",
            "/usr/local/lib/python3.6/dist-packages/ipykernel_launcher.py:9: UserWarning: Update your `Conv2D` call to the Keras 2 API: `Conv2D(64, (3, 3), activation=\"relu\", padding=\"same\")`\n",
            "  if __name__ == '__main__':\n",
            "/usr/local/lib/python3.6/dist-packages/ipykernel_launcher.py:10: UserWarning: Update your `Conv2D` call to the Keras 2 API: `Conv2D(64, (3, 3), activation=\"relu\", padding=\"same\")`\n",
            "  # Remove the CWD from sys.path while we load stuff.\n",
            "/usr/local/lib/python3.6/dist-packages/ipykernel_launcher.py:14: UserWarning: Update your `Conv2D` call to the Keras 2 API: `Conv2D(128, (3, 3), activation=\"relu\", padding=\"same\")`\n",
            "  \n",
            "/usr/local/lib/python3.6/dist-packages/ipykernel_launcher.py:15: UserWarning: Update your `Conv2D` call to the Keras 2 API: `Conv2D(128, (3, 3), activation=\"relu\", padding=\"same\")`\n",
            "  from ipykernel import kernelapp as app\n",
            "/usr/local/lib/python3.6/dist-packages/ipykernel_launcher.py:19: UserWarning: Update your `Conv2D` call to the Keras 2 API: `Conv2D(256, (3, 3), activation=\"relu\", padding=\"same\")`\n",
            "/usr/local/lib/python3.6/dist-packages/ipykernel_launcher.py:20: UserWarning: Update your `Conv2D` call to the Keras 2 API: `Conv2D(256, (3, 3), activation=\"relu\", padding=\"same\")`\n"
          ],
          "name": "stderr"
        }
      ]
    },
    {
      "cell_type": "markdown",
      "metadata": {
        "id": "_nCCRNhbaN4b",
        "colab_type": "text"
      },
      "source": [
        "4. Artificial Neural Network"
      ]
    },
    {
      "cell_type": "code",
      "metadata": {
        "id": "XWZdYw-wZbhz",
        "colab_type": "code",
        "outputId": "bf3e489f-2e4e-48a5-f19b-ad1df350eecf",
        "colab": {
          "base_uri": "https://localhost:8080/",
          "height": 146
        }
      },
      "source": [
        "#Flatten Layer\n",
        "classifier.add(Flatten())\n",
        "\n",
        "#Fully Connected Layer\n",
        "classifier.add(Dense(output_dim = 256, activation = 'relu'))\n",
        "\n",
        "#Adding Dropout regularization...\n",
        "classifier.add(Dropout(0.5))\n",
        "\n",
        "classifier.add(Dense(output_dim = 256, activation = 'relu'))\n",
        "classifier.add(Dropout(0.5))\n",
        "\n",
        "#Final output layer\n",
        "classifier.add(Dense(output_dim = 1, activation = 'sigmoid'))"
      ],
      "execution_count": 0,
      "outputs": [
        {
          "output_type": "stream",
          "text": [
            "/usr/local/lib/python3.6/dist-packages/ipykernel_launcher.py:4: UserWarning: Update your `Dense` call to the Keras 2 API: `Dense(activation=\"relu\", units=256)`\n",
            "  after removing the cwd from sys.path.\n",
            "/usr/local/lib/python3.6/dist-packages/ipykernel_launcher.py:9: UserWarning: Update your `Dense` call to the Keras 2 API: `Dense(activation=\"relu\", units=256)`\n",
            "  if __name__ == '__main__':\n",
            "/usr/local/lib/python3.6/dist-packages/ipykernel_launcher.py:13: UserWarning: Update your `Dense` call to the Keras 2 API: `Dense(activation=\"sigmoid\", units=1)`\n",
            "  del sys.path[0]\n"
          ],
          "name": "stderr"
        }
      ]
    },
    {
      "cell_type": "code",
      "metadata": {
        "id": "XC_6dlWNaWAJ",
        "colab_type": "code",
        "outputId": "db8ca120-4cb5-4390-ae6c-569d55010a10",
        "colab": {
          "base_uri": "https://localhost:8080/",
          "height": 816
        }
      },
      "source": [
        "#Summary of the constructed model\n",
        "classifier.summary()"
      ],
      "execution_count": 0,
      "outputs": [
        {
          "output_type": "stream",
          "text": [
            "Model: \"sequential_5\"\n",
            "_________________________________________________________________\n",
            "Layer (type)                 Output Shape              Param #   \n",
            "=================================================================\n",
            "conv2d_10 (Conv2D)           (None, 200, 200, 32)      896       \n",
            "_________________________________________________________________\n",
            "conv2d_11 (Conv2D)           (None, 200, 200, 32)      9248      \n",
            "_________________________________________________________________\n",
            "max_pooling2d_10 (MaxPooling (None, 100, 100, 32)      0         \n",
            "_________________________________________________________________\n",
            "conv2d_12 (Conv2D)           (None, 100, 100, 64)      18496     \n",
            "_________________________________________________________________\n",
            "conv2d_13 (Conv2D)           (None, 100, 100, 64)      36928     \n",
            "_________________________________________________________________\n",
            "max_pooling2d_11 (MaxPooling (None, 50, 50, 64)        0         \n",
            "_________________________________________________________________\n",
            "conv2d_14 (Conv2D)           (None, 50, 50, 128)       73856     \n",
            "_________________________________________________________________\n",
            "conv2d_15 (Conv2D)           (None, 50, 50, 128)       147584    \n",
            "_________________________________________________________________\n",
            "max_pooling2d_12 (MaxPooling (None, 25, 25, 128)       0         \n",
            "_________________________________________________________________\n",
            "conv2d_16 (Conv2D)           (None, 25, 25, 256)       295168    \n",
            "_________________________________________________________________\n",
            "conv2d_17 (Conv2D)           (None, 25, 25, 256)       590080    \n",
            "_________________________________________________________________\n",
            "max_pooling2d_13 (MaxPooling (None, 12, 12, 256)       0         \n",
            "_________________________________________________________________\n",
            "flatten_7 (Flatten)          (None, 36864)             0         \n",
            "_________________________________________________________________\n",
            "dense_5 (Dense)              (None, 256)               9437440   \n",
            "_________________________________________________________________\n",
            "dropout_2 (Dropout)          (None, 256)               0         \n",
            "_________________________________________________________________\n",
            "dense_6 (Dense)              (None, 256)               65792     \n",
            "_________________________________________________________________\n",
            "dropout_3 (Dropout)          (None, 256)               0         \n",
            "_________________________________________________________________\n",
            "dense_7 (Dense)              (None, 1)                 257       \n",
            "=================================================================\n",
            "Total params: 10,675,745\n",
            "Trainable params: 10,675,745\n",
            "Non-trainable params: 0\n",
            "_________________________________________________________________\n"
          ],
          "name": "stdout"
        }
      ]
    },
    {
      "cell_type": "code",
      "metadata": {
        "id": "K_PA-um1eIsg",
        "colab_type": "code",
        "colab": {}
      },
      "source": [
        "classifier.compile(optimizer = RMSprop(lr=0.0001), loss = 'binary_crossentropy', metrics = ['accuracy'])"
      ],
      "execution_count": 0,
      "outputs": []
    },
    {
      "cell_type": "markdown",
      "metadata": {
        "id": "jL9c1wewbHtp",
        "colab_type": "text"
      },
      "source": [
        "5. Preprocessing of Data"
      ]
    },
    {
      "cell_type": "code",
      "metadata": {
        "id": "WveWFiIkm0HA",
        "colab_type": "code",
        "outputId": "5751698a-0ba6-4e6e-d6b2-da02b31be4d0",
        "colab": {
          "base_uri": "https://localhost:8080/",
          "height": 53
        }
      },
      "source": [
        "#Data Augmentation\n",
        "\n",
        "train_datagen = ImageDataGenerator(\n",
        "    rescale=1./255,\n",
        "    rotation_range = 40,\n",
        "    width_shift_range = 0.2,\n",
        "    height_shift_range = 0.2,\n",
        "    shear_range = 0.1,\n",
        "    zoom_range = 0.1,\n",
        "    horizontal_flip = True)\n",
        "\n",
        "\n",
        "test_datagen = ImageDataGenerator(rescale=1./255)\n",
        "\n",
        "training_set = train_datagen.flow_from_directory(\n",
        "        '/tmp/cats_and_dogs_filtered/train',\n",
        "        target_size=(200, 200),\n",
        "        batch_size=20,\n",
        "        class_mode='binary')\n",
        "\n",
        "test_set = test_datagen.flow_from_directory(\n",
        "        '/tmp/cats_and_dogs_filtered/validation',\n",
        "        target_size=(200, 200),\n",
        "        batch_size=40,\n",
        "        class_mode='binary')"
      ],
      "execution_count": 0,
      "outputs": [
        {
          "output_type": "stream",
          "text": [
            "Found 2000 images belonging to 2 classes.\n",
            "Found 1000 images belonging to 2 classes.\n"
          ],
          "name": "stdout"
        }
      ]
    },
    {
      "cell_type": "markdown",
      "metadata": {
        "id": "a0_-yFAAduoB",
        "colab_type": "text"
      },
      "source": [
        "6. Training"
      ]
    },
    {
      "cell_type": "code",
      "metadata": {
        "id": "FD1p4Hggdu3o",
        "colab_type": "code",
        "outputId": "2b3a6ba2-f30c-4039-9053-b44d573b543a",
        "colab": {
          "base_uri": "https://localhost:8080/",
          "height": 762
        }
      },
      "source": [
        "classifier.fit_generator(\n",
        "        training_set,\n",
        "        steps_per_epoch=100,\n",
        "        epochs=20,\n",
        "        validation_data=test_set,\n",
        "        validation_steps=50)"
      ],
      "execution_count": 0,
      "outputs": [
        {
          "output_type": "stream",
          "text": [
            "Epoch 1/20\n",
            "100/100 [==============================] - 27s 268ms/step - loss: 0.4914 - acc: 0.7700 - val_loss: 0.4659 - val_acc: 0.7850\n",
            "Epoch 2/20\n",
            "100/100 [==============================] - 25s 249ms/step - loss: 0.4927 - acc: 0.7725 - val_loss: 0.4483 - val_acc: 0.7990\n",
            "Epoch 3/20\n",
            "100/100 [==============================] - 25s 248ms/step - loss: 0.4506 - acc: 0.7995 - val_loss: 0.4848 - val_acc: 0.8100\n",
            "Epoch 4/20\n",
            "100/100 [==============================] - 25s 247ms/step - loss: 0.4375 - acc: 0.8000 - val_loss: 0.4835 - val_acc: 0.8150\n",
            "Epoch 5/20\n",
            "100/100 [==============================] - 25s 249ms/step - loss: 0.4619 - acc: 0.7945 - val_loss: 0.4903 - val_acc: 0.7830\n",
            "Epoch 6/20\n",
            "100/100 [==============================] - 25s 247ms/step - loss: 0.4429 - acc: 0.8045 - val_loss: 0.4629 - val_acc: 0.7960\n",
            "Epoch 7/20\n",
            "100/100 [==============================] - 25s 250ms/step - loss: 0.4443 - acc: 0.8070 - val_loss: 0.4591 - val_acc: 0.7790\n",
            "Epoch 8/20\n",
            "100/100 [==============================] - 25s 249ms/step - loss: 0.4372 - acc: 0.8075 - val_loss: 0.4522 - val_acc: 0.8050\n",
            "Epoch 9/20\n",
            "100/100 [==============================] - 25s 247ms/step - loss: 0.4309 - acc: 0.8090 - val_loss: 0.4418 - val_acc: 0.8160\n",
            "Epoch 10/20\n",
            "100/100 [==============================] - 25s 249ms/step - loss: 0.4206 - acc: 0.8160 - val_loss: 0.5019 - val_acc: 0.7980\n",
            "Epoch 11/20\n",
            "100/100 [==============================] - 25s 250ms/step - loss: 0.4092 - acc: 0.8230 - val_loss: 0.5303 - val_acc: 0.8060\n",
            "Epoch 12/20\n",
            "100/100 [==============================] - 25s 249ms/step - loss: 0.4125 - acc: 0.8190 - val_loss: 0.4446 - val_acc: 0.8160\n",
            "Epoch 13/20\n",
            "100/100 [==============================] - 25s 249ms/step - loss: 0.4174 - acc: 0.8190 - val_loss: 0.4589 - val_acc: 0.8070\n",
            "Epoch 14/20\n",
            "100/100 [==============================] - 25s 250ms/step - loss: 0.4057 - acc: 0.8200 - val_loss: 0.4854 - val_acc: 0.7990\n",
            "Epoch 15/20\n",
            "100/100 [==============================] - 25s 250ms/step - loss: 0.4213 - acc: 0.8195 - val_loss: 0.4973 - val_acc: 0.7970\n",
            "Epoch 16/20\n",
            "100/100 [==============================] - 25s 248ms/step - loss: 0.4021 - acc: 0.8320 - val_loss: 0.4360 - val_acc: 0.8010\n",
            "Epoch 17/20\n",
            "100/100 [==============================] - 25s 250ms/step - loss: 0.3880 - acc: 0.8305 - val_loss: 0.4625 - val_acc: 0.8230\n",
            "Epoch 18/20\n",
            "100/100 [==============================] - 25s 251ms/step - loss: 0.3716 - acc: 0.8325 - val_loss: 0.5320 - val_acc: 0.8190\n",
            "Epoch 19/20\n",
            "100/100 [==============================] - 25s 250ms/step - loss: 0.3812 - acc: 0.8485 - val_loss: 0.4715 - val_acc: 0.8120\n",
            "Epoch 20/20\n",
            "100/100 [==============================] - 25s 248ms/step - loss: 0.3820 - acc: 0.8360 - val_loss: 0.4405 - val_acc: 0.8310\n"
          ],
          "name": "stdout"
        },
        {
          "output_type": "execute_result",
          "data": {
            "text/plain": [
              "<keras.callbacks.History at 0x7fea73dd0ef0>"
            ]
          },
          "metadata": {
            "tags": []
          },
          "execution_count": 44
        }
      ]
    },
    {
      "cell_type": "markdown",
      "metadata": {
        "id": "wjiioVktyMZD",
        "colab_type": "text"
      },
      "source": [
        "Saving model..."
      ]
    },
    {
      "cell_type": "code",
      "metadata": {
        "id": "JxTMCGqtyLO-",
        "colab_type": "code",
        "colab": {}
      },
      "source": [
        "classifier.save(\"deepDVCBC_model_3.h5\")"
      ],
      "execution_count": 0,
      "outputs": []
    }
  ]
}